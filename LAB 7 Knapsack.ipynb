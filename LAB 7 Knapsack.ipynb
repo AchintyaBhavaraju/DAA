{
 "cells": [
  {
   "cell_type": "code",
   "execution_count": null,
   "id": "1f005817",
   "metadata": {},
   "outputs": [],
   "source": [
    "import time\n",
    "from random import randint\n",
    "import matplotlib.pyplot as plt\n",
    "\n",
    "\n",
    "def knapSack(W, wt, val, n):\n",
    "    K = [[0 for x in range(W + 1)] for x in range(n + 1)]\n",
    "    for i in range(n + 1):\n",
    "        for w in range(W + 1):\n",
    "            if i == 0 or w == 0:\n",
    "                K[i][w] = 0\n",
    "            elif wt[i - 1] <= w:\n",
    "                K[i][w] = max(val[i - 1] + K[i - 1][w - wt[i - 1]], K[i - 1][w])\n",
    "            else:\n",
    "                K[i][w] = K[i - 1][w]\n",
    "    return K[n][W]\n",
    "\n",
    "\n",
    "val = [60, 100, 120]\n",
    "wt = [10, 20, 30]\n",
    "W = 50\n",
    "n = len(val)\n",
    "print(knapSack(W, wt, val, n))\n",
    "\n",
    "def plot(x_list, times):\n",
    "    plt.xlabel(\"No. of elements\")\n",
    "    plt.ylabel(\"Time required\")\n",
    "    plt.plot(x_list, times)\n",
    "    plt.show()\n",
    "\n",
    "\n",
    "val_1 = [randint(0, 5000) for i in range(2000)]\n",
    "wt_1 = [randint(0, 5000) for i in range(2000)]\n",
    "W_1 = randint(0,5000)\n",
    "n_1 = len(val_1)\n",
    "\n",
    "times = []\n",
    "for x in range(0, 1000, 10):\n",
    "    start_time = time.time()\n",
    "    knapSack(W_1, wt_1, val_1, n_1)\n",
    "    elapsed_time = time.time() - start_time\n",
    "    times.append(elapsed_time)\n",
    "print(times)\n",
    "x_1 = [i for i in range(0, 1000, 10)]\n",
    "plot(x_1, times)\n",
    "\n"
   ]
  },
  {
   "cell_type": "code",
   "execution_count": null,
   "id": "21f9a09e",
   "metadata": {},
   "outputs": [],
   "source": []
  },
  {
   "cell_type": "code",
   "execution_count": null,
   "id": "02d5b6a9",
   "metadata": {},
   "outputs": [],
   "source": []
  },
  {
   "cell_type": "code",
   "execution_count": null,
   "id": "815cb12c",
   "metadata": {},
   "outputs": [],
   "source": []
  },
  {
   "cell_type": "code",
   "execution_count": null,
   "id": "b14aa39a",
   "metadata": {},
   "outputs": [],
   "source": []
  }
 ],
 "metadata": {
  "kernelspec": {
   "display_name": "Python 3 (ipykernel)",
   "language": "python",
   "name": "python3"
  },
  "language_info": {
   "codemirror_mode": {
    "name": "ipython",
    "version": 3
   },
   "file_extension": ".py",
   "mimetype": "text/x-python",
   "name": "python",
   "nbconvert_exporter": "python",
   "pygments_lexer": "ipython3",
   "version": "3.9.7"
  }
 },
 "nbformat": 4,
 "nbformat_minor": 5
}

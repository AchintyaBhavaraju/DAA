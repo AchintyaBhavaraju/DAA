{
 "cells": [
  {
   "cell_type": "code",
   "execution_count": 2,
   "id": "74830b1f",
   "metadata": {},
   "outputs": [
    {
     "name": "stdout",
     "output_type": "stream",
     "text": [
      "no.of arrays25\n"
     ]
    },
    {
     "data": {
      "text/plain": [
       "Text(0.5, 0, 'size of the array')"
      ]
     },
     "execution_count": 2,
     "metadata": {},
     "output_type": "execute_result"
    },
    {
     "data": {
      "image/png": "[encoded data removed]",
      "text/plain": [
       "<Figure size 432x288 with 1 Axes>"
      ]
     },
     "metadata": {
      "needs_background": "light"
     },
     "output_type": "display_data"
    }
   ],
   "source": [
    "import matplotlib.pyplot as plt\n",
    "def quicksort(alist, start, end):\n",
    "    if end - start > 1:\n",
    "        p = partition(alist, start, end)\n",
    "        quicksort(alist, start, p)\n",
    "        quicksort(alist, p + 1, end)\n",
    " \n",
    " \n",
    "def partition(alist, start, end):\n",
    "    pivot = alist[start]\n",
    "    i = start + 1\n",
    "    j = end - 1\n",
    " \n",
    "    while True:\n",
    "        while (i <= j and alist[i] <= pivot):\n",
    "            i = i + 1\n",
    "        while (i <= j and alist[j] >= pivot):\n",
    "            j = j - 1\n",
    " \n",
    "        if i <= j:\n",
    "            alist[i], alist[j] = alist[j], alist[i]\n",
    "        else:\n",
    "            alist[start], alist[j] = alist[j], alist[start]\n",
    "            return j\n",
    "\n",
    "import random \n",
    "def create_arr(n):\n",
    "    arr=[]\n",
    "    while n>0:\n",
    "        arr.append(random.randint(0,n))\n",
    "        n=n-1\n",
    "    return arr\n",
    "from datetime import datetime\n",
    "m=int(input('no.of arrays'))\n",
    "len=m\n",
    "time=[]\n",
    "lengths=[]\n",
    "while m>0:\n",
    "    size=random.randint(0,len)\n",
    "    lengths.append(size)\n",
    "    arr=create_arr(size)\n",
    "    start=datetime.now()\n",
    "    quicksort(arr,0,size-1)\n",
    "    end=datetime.now()\n",
    "    time.append((end-start).total_seconds())\n",
    "    m=m-1\n",
    "    \n",
    "    \n",
    "plt.plot(lengths,time)\n",
    "plt.ylabel('time taken')\n",
    "plt.xlabel('size of the array')"
   ]
  },
  {
   "cell_type": "code",
   "execution_count": null,
   "id": "9c924e0a",
   "metadata": {},
   "outputs": [],
   "source": []
  }
 ],
 "metadata": {
  "kernelspec": {
   "display_name": "Python 3 (ipykernel)",
   "language": "python",
   "name": "python3"
  },
  "language_info": {
   "codemirror_mode": {
    "name": "ipython",
    "version": 3
   },
   "file_extension": ".py",
   "mimetype": "text/x-python",
   "name": "python",
   "nbconvert_exporter": "python",
   "pygments_lexer": "ipython3",
   "version": "3.9.7"
  }
 },
 "nbformat": 4,
 "nbformat_minor": 5
}

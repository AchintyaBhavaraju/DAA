{
 "cells": [
  {
   "cell_type": "code",
   "execution_count": 1,
   "id": "a93ce5b2",
   "metadata": {},
   "outputs": [
    {
     "data": {
      "image/png": "[encoded data removed]",
      "text/plain": [
       "<Figure size 432x288 with 1 Axes>"
      ]
     },
     "metadata": {
      "needs_background": "light"
     },
     "output_type": "display_data"
    }
   ],
   "source": [
    "import matplotlib.pyplot as plt\n",
    "import time\n",
    "import random\n",
    "def linear(l,x):\n",
    "    count=0\n",
    "    for i in l:\n",
    "        count=count+1\n",
    "        if(i==x):\n",
    "            return count\n",
    "    return -1\n",
    "\n",
    "def binary(l,x):\n",
    "    left=0\n",
    "    right=len(l)-1\n",
    "    \n",
    "    while(left<=right):\n",
    "        mid=(left+right)//2\n",
    "        if(x>l[mid]):\n",
    "            left=mid+1\n",
    "        elif(x<l[mid]):\n",
    "            right=mid-1\n",
    "        else:\n",
    "            return mid\n",
    "    return -1\n",
    "\n",
    "\n",
    "\n",
    "\n",
    "l=[]\n",
    "res=[]\n",
    "\n",
    "for i in range(0,10000):\n",
    "    l.append(random.random())\n",
    "    x=random.randint(0,len(l)-1)\n",
    "    st = time.time()\n",
    "    binary(l,l[x])\n",
    "    ed = time.time()\n",
    "    res.append(ed-st)\n",
    "\n",
    "plt.plot(range(0,10000),res)\n",
    "plt.show()"
   ]
  },
  {
   "cell_type": "code",
   "execution_count": null,
   "id": "8aeaf5c3",
   "metadata": {},
   "outputs": [],
   "source": []
  }
 ],
 "metadata": {
  "kernelspec": {
   "display_name": "Python 3 (ipykernel)",
   "language": "python",
   "name": "python3"
  },
  "language_info": {
   "codemirror_mode": {
    "name": "ipython",
    "version": 3
   },
   "file_extension": ".py",
   "mimetype": "text/x-python",
   "name": "python",
   "nbconvert_exporter": "python",
   "pygments_lexer": "ipython3",
   "version": "3.9.7"
  }
 },
 "nbformat": 4,
 "nbformat_minor": 5
}

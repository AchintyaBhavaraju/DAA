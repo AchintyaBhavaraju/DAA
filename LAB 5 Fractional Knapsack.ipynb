{
 "cells": [
  {
   "cell_type": "code",
   "execution_count": 2,
   "id": "870e12bd",
   "metadata": {},
   "outputs": [
    {
     "ename": "NameError",
     "evalue": "name 'name' is not defined",
     "output_type": "error",
     "traceback": [
      "\u001b[1;31m---------------------------------------------------------------------------\u001b[0m",
      "\u001b[1;31mNameError\u001b[0m                                 Traceback (most recent call last)",
      "\u001b[1;32m~\\AppData\\Local\\Temp/ipykernel_3972/2433339427.py\u001b[0m in \u001b[0;36m<module>\u001b[1;34m\u001b[0m\n\u001b[0;32m     43\u001b[0m \u001b[1;33m\u001b[0m\u001b[0m\n\u001b[0;32m     44\u001b[0m \u001b[1;31m# Driver's Code\u001b[0m\u001b[1;33m\u001b[0m\u001b[1;33m\u001b[0m\u001b[0m\n\u001b[1;32m---> 45\u001b[1;33m \u001b[1;32mif\u001b[0m \u001b[0mname\u001b[0m \u001b[1;33m==\u001b[0m \u001b[1;34m\"_main_\"\u001b[0m\u001b[1;33m:\u001b[0m\u001b[1;33m\u001b[0m\u001b[1;33m\u001b[0m\u001b[0m\n\u001b[0m\u001b[0;32m     46\u001b[0m     \u001b[1;31m# Weight of Knapsack\u001b[0m\u001b[1;33m\u001b[0m\u001b[1;33m\u001b[0m\u001b[0m\n\u001b[0;32m     47\u001b[0m     \u001b[0mW\u001b[0m \u001b[1;33m=\u001b[0m \u001b[1;36m50\u001b[0m\u001b[1;33m\u001b[0m\u001b[1;33m\u001b[0m\u001b[0m\n",
      "\u001b[1;31mNameError\u001b[0m: name 'name' is not defined"
     ]
    }
   ],
   "source": [
    "import time\n",
    "from random import randint\n",
    "import matplotlib.pyplot as plt\n",
    "\n",
    "\n",
    "class Item:\n",
    "    def _init_(self, value, weight):\n",
    "        self.value = value\n",
    "        self.weight = weight\n",
    "\n",
    "\n",
    "def fractionalKnapsack(W, arr):\n",
    "    arr.sort(key=lambda x: (x.value / x.weight), reverse=True)\n",
    "    finalvalue = 0.0\n",
    "\n",
    "    for item in arr:\n",
    "\n",
    "        if item.weight <= W:\n",
    "            W -= item.weight\n",
    "            finalvalue += item.value\n",
    "\n",
    "        else:\n",
    "            finalvalue += item.value * W / item.weight\n",
    "            break\n",
    "    return finalvalue\n",
    "\n",
    "if _name_ == \"_main_\":\n",
    "    W = 50\n",
    "    arr = [Item(60, 10), Item(100, 20), Item(120, 30)]\n",
    "\n",
    "    # Function call\n",
    "    max_val = fractionalKnapsack(W, arr)\n",
    "    print('Maximum value we can obtain = {}'.format(max_val))\n",
    "\n",
    "\n",
    "def plot(x_1, times_1):\n",
    "    plt.xlabel(\"No. of elements\")\n",
    "    plt.ylabel(\"Time required\")\n",
    "    plt.plot(x_1, times_1)\n",
    "    plt.show()\n",
    "\n",
    "\n",
    "W_1 = randint(0, 20000)\n",
    "arr_1 = [Item(randint(0, 20000), randint(0, 13000)), Item(randint(0, 20000), randint(0, 13000)),\n",
    "         Item(randint(0, 20000), randint(0, 13000))]\n",
    "\n",
    "times = []\n",
    "for x in range(0, 100000, 10):\n",
    "    start_time = time.time()\n",
    "    max_val = fractionalKnapsack(W_1, arr_1)\n",
    "    elapsed_time = time.time() - start_time\n",
    "    times.append(elapsed_time)\n",
    "print(times)\n",
    "x = [i for i in range(0, 100000, 10)]\n",
    "plot(x, times)"
   ]
  },
  {
   "cell_type": "code",
   "execution_count": null,
   "id": "15e3c998",
   "metadata": {},
   "outputs": [],
   "source": []
  }
 ],
 "metadata": {
  "kernelspec": {
   "display_name": "Python 3 (ipykernel)",
   "language": "python",
   "name": "python3"
  },
  "language_info": {
   "codemirror_mode": {
    "name": "ipython",
    "version": 3
   },
   "file_extension": ".py",
   "mimetype": "text/x-python",
   "name": "python",
   "nbconvert_exporter": "python",
   "pygments_lexer": "ipython3",
   "version": "3.9.7"
  }
 },
 "nbformat": 4,
 "nbformat_minor": 5
}

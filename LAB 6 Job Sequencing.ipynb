{
 "cells": [
  {
   "cell_type": "code",
   "execution_count": 1,
   "id": "f4133632",
   "metadata": {},
   "outputs": [
    {
     "ename": "NameError",
     "evalue": "name '_name_' is not defined",
     "output_type": "error",
     "traceback": [
      "\u001b[1;31m---------------------------------------------------------------------------\u001b[0m",
      "\u001b[1;31mNameError\u001b[0m                                 Traceback (most recent call last)",
      "\u001b[1;32m~\\AppData\\Local\\Temp/ipykernel_15428/1938127891.py\u001b[0m in \u001b[0;36m<module>\u001b[1;34m\u001b[0m\n\u001b[0;32m     40\u001b[0m \u001b[1;33m\u001b[0m\u001b[0m\n\u001b[0;32m     41\u001b[0m \u001b[1;31m# Driver's Code\u001b[0m\u001b[1;33m\u001b[0m\u001b[1;33m\u001b[0m\u001b[0m\n\u001b[1;32m---> 42\u001b[1;33m \u001b[1;32mif\u001b[0m \u001b[0m_name_\u001b[0m \u001b[1;33m==\u001b[0m \u001b[1;34m'_main_'\u001b[0m\u001b[1;33m:\u001b[0m\u001b[1;33m\u001b[0m\u001b[1;33m\u001b[0m\u001b[0m\n\u001b[0m\u001b[0;32m     43\u001b[0m     arr = [['a', 2, 100],  # Job Array\n\u001b[0;32m     44\u001b[0m            \u001b[1;33m[\u001b[0m\u001b[1;34m'b'\u001b[0m\u001b[1;33m,\u001b[0m \u001b[1;36m1\u001b[0m\u001b[1;33m,\u001b[0m \u001b[1;36m19\u001b[0m\u001b[1;33m]\u001b[0m\u001b[1;33m,\u001b[0m\u001b[1;33m\u001b[0m\u001b[1;33m\u001b[0m\u001b[0m\n",
      "\u001b[1;31mNameError\u001b[0m: name '_name_' is not defined"
     ]
    }
   ],
   "source": [
    "import time\n",
    "from random import randint\n",
    "import matplotlib.pyplot as plt\n",
    "\n",
    "\n",
    "def printJobScheduling(arr, t):\n",
    "    # length of array\n",
    "    n = len(arr)\n",
    "\n",
    "    for i in range(n):\n",
    "        for j in range(n - 1 - i):\n",
    "            if arr[j][2] < arr[j + 1][2]:\n",
    "                arr[j], arr[j + 1] = arr[j + 1], arr[j]\n",
    "\n",
    "    result = [False] * t\n",
    "    job = ['-1'] * t\n",
    "\n",
    "    for i in range(len(arr)):\n",
    "        for j in range(min(t - 1, arr[i][1] - 1), -1, -1):\n",
    "            if result[j] is False:\n",
    "                result[j] = True\n",
    "                job[j] = arr[i][0]\n",
    "                break\n",
    "    print(job)\n",
    "\n",
    "\n",
    "if _name_ == '_main_':\n",
    "    arr = [['a', 2, 100], \n",
    "           ['b', 1, 19],\n",
    "           ['c', 2, 27],\n",
    "           ['d', 1, 25],\n",
    "           ['e', 3, 15]]\n",
    "\n",
    "    print(\"Following is maximum profit sequence of jobs\")\n",
    "\n",
    "    printJobScheduling(arr, 3)\n",
    "\n",
    "\n",
    "def plot(x_list, times):\n",
    "    plt.xlabel(\"No. of elements\")\n",
    "    plt.ylabel(\"Time required\")\n",
    "    plt.plot(x_list, times)\n",
    "    plt.show()\n",
    "\n",
    "\n",
    "arr_1 = [['a', randint(0, 5), randint(0, 1000)],  \n",
    "         ['b', randint(0, 5), randint(0, 1000)],\n",
    "         ['c', randint(0, 5), randint(0, 1000)],\n",
    "         ['d', randint(0, 5), randint(0, 1000)],\n",
    "         ['e', randint(0, 5), randint(0, 1000)]]\n",
    "list1 = [i for i in range(500)]\n",
    "\n",
    "times = []\n",
    "for x in range(0, 1000, 10):\n",
    "    start_time = time.time()\n",
    "    printJobScheduling(arr_1, 3)\n",
    "    elapsed_time = time.time() - start_time\n",
    "    times.append(elapsed_time)\n",
    "print(times)\n",
    "x_1 = [i for i in range(0, 1000, 10)]\n",
    "plot(x_1, times)"
   ]
  },
  {
   "cell_type": "code",
   "execution_count": null,
   "id": "2eb81877",
   "metadata": {},
   "outputs": [],
   "source": []
  }
 ],
 "metadata": {
  "kernelspec": {
   "display_name": "Python 3 (ipykernel)",
   "language": "python",
   "name": "python3"
  },
  "language_info": {
   "codemirror_mode": {
    "name": "ipython",
    "version": 3
   },
   "file_extension": ".py",
   "mimetype": "text/x-python",
   "name": "python",
   "nbconvert_exporter": "python",
   "pygments_lexer": "ipython3",
   "version": "3.9.7"
  }
 },
 "nbformat": 4,
 "nbformat_minor": 5
}

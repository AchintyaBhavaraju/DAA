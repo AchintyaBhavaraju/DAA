{
 "cells": [
  {
   "cell_type": "code",
   "execution_count": 1,
   "id": "45dd710f",
   "metadata": {},
   "outputs": [
    {
     "name": "stdout",
     "output_type": "stream",
     "text": [
      "no.of arrays10\n"
     ]
    },
    {
     "data": {
      "text/plain": [
       "Text(0.5, 0, 'size of the array')"
      ]
     },
     "execution_count": 1,
     "metadata": {},
     "output_type": "execute_result"
    },
    {
     "data": {
      "image/png": "[encoded data removed]",
      "text/plain": [
       "<Figure size 432x288 with 1 Axes>"
      ]
     },
     "metadata": {
      "needs_background": "light"
     },
     "output_type": "display_data"
    }
   ],
   "source": [
    "import numpy as np \n",
    "import pandas as pd\n",
    "import random \n",
    "random.seed(42)\n",
    "def make_arr(n):\n",
    "    weight = []\n",
    "    i=1\n",
    "    len=n\n",
    "    while n>0:\n",
    "        rand_int=random.randint(0,n)\n",
    "        weight.append(str(rand_int))\n",
    "        n=n-1\n",
    "        i=i+1\n",
    "    return weight\n",
    "\n",
    "def lcs(str1, str2):\n",
    "    m,n = len(str1),len(str2)\n",
    "    LCS = [[None]*(n + 1) for i in range(m + 1)]\n",
    "    for i in range(m + 1):\n",
    "        for j in range(n + 1):\n",
    "            if i == 0 or j == 0 :\n",
    "                LCS[i][j] = 0\n",
    "            elif str1[i-1] == str2[j-1]:\n",
    "                LCS[i][j] = LCS[i-1][j-1]+1\n",
    "            else:\n",
    "                LCS[i][j] = max(LCS[i-1][j], LCS[i][j-1])\n",
    "    return LCS[m][n]\n",
    "\n",
    "from datetime import datetime\n",
    "m=int(input('no.of arrays'))\n",
    "length1=m\n",
    "time_taken=[]\n",
    "lengths=[]\n",
    "while m>0:\n",
    "    size=random.randint(0,length1)\n",
    "    lengths.append(size)\n",
    "    str1=make_arr(size)\n",
    "    str2=make_arr(size)\n",
    "    start=datetime.now()\n",
    "    lcs(str1,str2)\n",
    "    end=datetime.now()\n",
    "    time_taken.append((end-start).total_seconds())\n",
    "    m=m-1\n",
    "    \n",
    "import matplotlib.pyplot as plt\n",
    "plt.plot(lengths,time_taken)\n",
    "plt.ylabel('time taken')\n",
    "plt.xlabel('size of the array')"
   ]
  },
  {
   "cell_type": "code",
   "execution_count": null,
   "id": "1f1e7982",
   "metadata": {},
   "outputs": [],
   "source": []
  }
 ],
 "metadata": {
  "kernelspec": {
   "display_name": "Python 3 (ipykernel)",
   "language": "python",
   "name": "python3"
  },
  "language_info": {
   "codemirror_mode": {
    "name": "ipython",
    "version": 3
   },
   "file_extension": ".py",
   "mimetype": "text/x-python",
   "name": "python",
   "nbconvert_exporter": "python",
   "pygments_lexer": "ipython3",
   "version": "3.9.7"
  }
 },
 "nbformat": 4,
 "nbformat_minor": 5
}
